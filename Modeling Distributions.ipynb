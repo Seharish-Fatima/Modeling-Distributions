{
 "cells": [
  {
   "cell_type": "code",
   "execution_count": 1,
   "id": "aa131697-2351-41e3-8963-7fd19c1fd5d1",
   "metadata": {},
   "outputs": [],
   "source": [
    "import numpy as np\n",
    "import matplotlib.pyplot as plt\n",
    "from empiricaldist import Pmf, Cdf\n",
    "from thinkstats import decorate, two_bar_plots, read_brfss\n",
    "from scipy.special import comb, factorial\n",
    "from scipy.stats import norm, trimboth\n",
    "import pandas as pd\n",
    "import nsfg\n",
    "import statadict\n",
    "from nsfg import read_fem_resp"
   ]
  },
  {
   "cell_type": "code",
   "execution_count": 2,
   "id": "8844dd12-d8fd-4b12-bcb4-c0f933490e6b",
   "metadata": {},
   "outputs": [],
   "source": [
    "def flip(n, p):\n",
    "    choices = [1, 0]\n",
    "    probs = [p, 1 - p]\n",
    "    return np.random.choice(choices, n, p = probs)"
   ]
  },
  {
   "cell_type": "code",
   "execution_count": 3,
   "id": "9701e993-aad4-44d9-acae-d3e890f98fd0",
   "metadata": {},
   "outputs": [
    {
     "data": {
      "text/plain": [
       "array([1, 1, 1, 1, 1, 1, 1, 1, 1, 1, 1, 1, 1, 0, 1, 1, 1, 1, 1, 1, 1, 1,\n",
       "       1, 1, 1])"
      ]
     },
     "execution_count": 3,
     "metadata": {},
     "output_type": "execute_result"
    }
   ],
   "source": [
    "flip(25, 0.9)"
   ]
  },
  {
   "cell_type": "code",
   "execution_count": 4,
   "id": "1dcbba69-ad5f-4815-8583-e2439331b75c",
   "metadata": {},
   "outputs": [
    {
     "data": {
      "text/html": [
       "<div>\n",
       "<style scoped>\n",
       "    .dataframe tbody tr th:only-of-type {\n",
       "        vertical-align: middle;\n",
       "    }\n",
       "\n",
       "    .dataframe tbody tr th {\n",
       "        vertical-align: top;\n",
       "    }\n",
       "\n",
       "    .dataframe thead th {\n",
       "        text-align: right;\n",
       "    }\n",
       "</style>\n",
       "<table border=\"1\" class=\"dataframe\">\n",
       "  <thead>\n",
       "    <tr style=\"text-align: right;\">\n",
       "      <th></th>\n",
       "      <th>probs</th>\n",
       "    </tr>\n",
       "  </thead>\n",
       "  <tbody>\n",
       "    <tr>\n",
       "      <th>0</th>\n",
       "      <td>0.086</td>\n",
       "    </tr>\n",
       "    <tr>\n",
       "      <th>1</th>\n",
       "      <td>0.914</td>\n",
       "    </tr>\n",
       "  </tbody>\n",
       "</table>\n",
       "</div>"
      ],
      "text/plain": [
       "0    0.086\n",
       "1    0.914\n",
       "Name: , dtype: float64"
      ]
     },
     "execution_count": 4,
     "metadata": {},
     "output_type": "execute_result"
    }
   ],
   "source": [
    "seq = flip(1000, 0.9)\n",
    "pmf = Pmf.from_seq(seq)\n",
    "pmf"
   ]
  },
  {
   "cell_type": "code",
   "execution_count": 5,
   "id": "708b6359-19a9-451e-a070-dda65754f14e",
   "metadata": {},
   "outputs": [],
   "source": [
    "def simulate_round(n, p):\n",
    "    seq = flip(n, p)\n",
    "    return seq.sum()"
   ]
  },
  {
   "cell_type": "code",
   "execution_count": 6,
   "id": "f1caca07-3214-46ae-873b-e69075ea4bd0",
   "metadata": {},
   "outputs": [],
   "source": [
    "n = 25\n",
    "p = 0.9\n",
    "result_sim = [simulate_round(n,p) for i in range(1000)]"
   ]
  },
  {
   "cell_type": "code",
   "execution_count": 7,
   "id": "4d0fdbe5-7f6b-4af9-b5fd-293e3f7d8339",
   "metadata": {},
   "outputs": [
    {
     "data": {
      "text/plain": [
       "(np.float64(22.478), 22.5)"
      ]
     },
     "execution_count": 7,
     "metadata": {},
     "output_type": "execute_result"
    }
   ],
   "source": [
    "np.mean(result_sim), n * p"
   ]
  },
  {
   "cell_type": "code",
   "execution_count": 8,
   "id": "219e86e6-2b8f-4c31-bd54-b028fe91d75a",
   "metadata": {},
   "outputs": [
    {
     "data": {
      "image/png": "[encoded data removed]",
      "text/plain": [
       "<Figure size 450x262.5 with 1 Axes>"
      ]
     },
     "metadata": {},
     "output_type": "display_data"
    }
   ],
   "source": [
    "pmf_sim = Pmf.from_seq(result_sim, name = \"Simulation Results\")\n",
    "pmf_sim.bar()\n",
    "decorate(xlabel = \"Hits\", ylabel = \"PMF\")"
   ]
  },
  {
   "cell_type": "code",
   "execution_count": 9,
   "id": "53deb81e-dce3-4579-a1ba-3369c7960bd8",
   "metadata": {},
   "outputs": [],
   "source": [
    "def binomial_pmf(k, n, p):\n",
    "    return comb(n,k) * (p**k) * ((1-p) ** (n-k))"
   ]
  },
  {
   "cell_type": "code",
   "execution_count": 10,
   "id": "2e57ad9f-499f-4b13-91d1-edad7018222a",
   "metadata": {},
   "outputs": [],
   "source": [
    "ks = np.arange(16, n + 1)\n",
    "ps = binomial_pmf(ks, n, p)\n",
    "pmf_binom = Pmf(ps, ks, name = \"Binomial Model\")"
   ]
  },
  {
   "cell_type": "code",
   "execution_count": 11,
   "id": "7cb4434f-b276-430c-bd2f-598f273d1d90",
   "metadata": {},
   "outputs": [
    {
     "data": {
      "image/png": "[encoded data removed]",
      "text/plain": [
       "<Figure size 450x262.5 with 1 Axes>"
      ]
     },
     "metadata": {},
     "output_type": "display_data"
    }
   ],
   "source": [
    "two_bar_plots(pmf_sim, pmf_binom)\n",
    "decorate(xlabel = \"Hits\", ylabel = \"PMF\")"
   ]
  },
  {
   "cell_type": "code",
   "execution_count": 12,
   "id": "dab7d0b9-9401-482a-beee-fc60d7ca1f35",
   "metadata": {},
   "outputs": [],
   "source": [
    "filename = \"Shooting_at_the_2020_Summer_Olympics_Mens_skeet\""
   ]
  },
  {
   "cell_type": "code",
   "execution_count": 13,
   "id": "2b0b6737-119f-4f80-807f-b8cdcd8e413c",
   "metadata": {},
   "outputs": [],
   "source": [
    "data = pd.read_html(filename)"
   ]
  },
  {
   "cell_type": "code",
   "execution_count": 14,
   "id": "6fd3824a-4907-4b7e-9030-fe1f39706879",
   "metadata": {},
   "outputs": [
    {
     "data": {
      "text/html": [
       "<div>\n",
       "<style scoped>\n",
       "    .dataframe tbody tr th:only-of-type {\n",
       "        vertical-align: middle;\n",
       "    }\n",
       "\n",
       "    .dataframe tbody tr th {\n",
       "        vertical-align: top;\n",
       "    }\n",
       "\n",
       "    .dataframe thead th {\n",
       "        text-align: right;\n",
       "    }\n",
       "</style>\n",
       "<table border=\"1\" class=\"dataframe\">\n",
       "  <thead>\n",
       "    <tr style=\"text-align: right;\">\n",
       "      <th></th>\n",
       "      <th>Rank</th>\n",
       "      <th>Athlete</th>\n",
       "      <th>Country</th>\n",
       "      <th>1</th>\n",
       "      <th>2</th>\n",
       "      <th>3</th>\n",
       "      <th>4</th>\n",
       "      <th>5</th>\n",
       "      <th>Total[3]</th>\n",
       "      <th>Shoot-off</th>\n",
       "      <th>Notes</th>\n",
       "    </tr>\n",
       "  </thead>\n",
       "  <tbody>\n",
       "    <tr>\n",
       "      <th>0</th>\n",
       "      <td>1</td>\n",
       "      <td>Éric Delaunay</td>\n",
       "      <td>France</td>\n",
       "      <td>25</td>\n",
       "      <td>25</td>\n",
       "      <td>25</td>\n",
       "      <td>24</td>\n",
       "      <td>25</td>\n",
       "      <td>124</td>\n",
       "      <td>+6</td>\n",
       "      <td>Q, OR</td>\n",
       "    </tr>\n",
       "    <tr>\n",
       "      <th>1</th>\n",
       "      <td>2</td>\n",
       "      <td>Tammaro Cassandro</td>\n",
       "      <td>Italy</td>\n",
       "      <td>24</td>\n",
       "      <td>25</td>\n",
       "      <td>25</td>\n",
       "      <td>25</td>\n",
       "      <td>25</td>\n",
       "      <td>124</td>\n",
       "      <td>+5</td>\n",
       "      <td>Q, OR</td>\n",
       "    </tr>\n",
       "    <tr>\n",
       "      <th>2</th>\n",
       "      <td>3</td>\n",
       "      <td>Eetu Kallioinen</td>\n",
       "      <td>Finland</td>\n",
       "      <td>25</td>\n",
       "      <td>25</td>\n",
       "      <td>24</td>\n",
       "      <td>25</td>\n",
       "      <td>24</td>\n",
       "      <td>123</td>\n",
       "      <td>NaN</td>\n",
       "      <td>Q</td>\n",
       "    </tr>\n",
       "    <tr>\n",
       "      <th>3</th>\n",
       "      <td>4</td>\n",
       "      <td>Vincent Hancock</td>\n",
       "      <td>United States</td>\n",
       "      <td>25</td>\n",
       "      <td>25</td>\n",
       "      <td>25</td>\n",
       "      <td>25</td>\n",
       "      <td>22</td>\n",
       "      <td>122</td>\n",
       "      <td>+8</td>\n",
       "      <td>Q</td>\n",
       "    </tr>\n",
       "    <tr>\n",
       "      <th>4</th>\n",
       "      <td>5</td>\n",
       "      <td>Abdullah Al-Rashidi</td>\n",
       "      <td>Kuwait</td>\n",
       "      <td>25</td>\n",
       "      <td>25</td>\n",
       "      <td>24</td>\n",
       "      <td>25</td>\n",
       "      <td>23</td>\n",
       "      <td>122</td>\n",
       "      <td>+7</td>\n",
       "      <td>Q</td>\n",
       "    </tr>\n",
       "  </tbody>\n",
       "</table>\n",
       "</div>"
      ],
      "text/plain": [
       "   Rank              Athlete        Country   1   2   3   4   5 Total[3]  \\\n",
       "0     1        Éric Delaunay         France  25  25  25  24  25      124   \n",
       "1     2    Tammaro Cassandro          Italy  24  25  25  25  25      124   \n",
       "2     3      Eetu Kallioinen        Finland  25  25  24  25  24      123   \n",
       "3     4      Vincent Hancock  United States  25  25  25  25  22      122   \n",
       "4     5  Abdullah Al-Rashidi         Kuwait  25  25  24  25  23      122   \n",
       "\n",
       "  Shoot-off  Notes  \n",
       "0        +6  Q, OR  \n",
       "1        +5  Q, OR  \n",
       "2       NaN      Q  \n",
       "3        +8      Q  \n",
       "4        +7      Q  "
      ]
     },
     "execution_count": 14,
     "metadata": {},
     "output_type": "execute_result"
    }
   ],
   "source": [
    "df = data[6]\n",
    "df.head()"
   ]
  },
  {
   "cell_type": "code",
   "execution_count": 15,
   "id": "34f375cc-58f4-4f72-91ce-0d723961798a",
   "metadata": {},
   "outputs": [],
   "source": [
    "columns = [\"1\", \"2\", \"3\", \"4\", \"5\"]\n",
    "results = df[columns].values.flatten()"
   ]
  },
  {
   "cell_type": "code",
   "execution_count": 16,
   "id": "692eeb75-b2a9-4a45-949d-882c814cc80e",
   "metadata": {},
   "outputs": [
    {
     "data": {
      "text/plain": [
       "(25, 3750, np.int64(3575))"
      ]
     },
     "execution_count": 16,
     "metadata": {},
     "output_type": "execute_result"
    }
   ],
   "source": [
    "total_shots = 25 * len(results)\n",
    "total_hits = results.sum()\n",
    "n, total_shots, total_hits"
   ]
  },
  {
   "cell_type": "code",
   "execution_count": 17,
   "id": "8dec82b0-3564-4c81-add0-08cf496d63bd",
   "metadata": {},
   "outputs": [
    {
     "data": {
      "text/plain": [
       "np.float64(0.9533333333333334)"
      ]
     },
     "execution_count": 17,
     "metadata": {},
     "output_type": "execute_result"
    }
   ],
   "source": [
    "p = total_hits / total_shots\n",
    "p"
   ]
  },
  {
   "cell_type": "code",
   "execution_count": 18,
   "id": "b1dde19a-df1f-4511-b71d-d57bb37ff104",
   "metadata": {},
   "outputs": [],
   "source": [
    "ps = binomial_pmf(ks, n, p)\n",
    "pmf_binom = Pmf(ps, ks, name = \"Binomial Model\")"
   ]
  },
  {
   "cell_type": "code",
   "execution_count": 19,
   "id": "85fe4e1c-4cdc-4809-93ac-f9f3abceaef2",
   "metadata": {},
   "outputs": [
    {
     "data": {
      "image/png": "[encoded data removed]",
      "text/plain": [
       "<Figure size 450x262.5 with 1 Axes>"
      ]
     },
     "metadata": {},
     "output_type": "display_data"
    }
   ],
   "source": [
    "pmf_result = Pmf.from_seq(results, name = \"Actual Results\")\n",
    "two_bar_plots(pmf_result, pmf_binom)\n",
    "decorate(xlabel=\"Hits\", ylabel=\"PMF\")"
   ]
  },
  {
   "cell_type": "code",
   "execution_count": 20,
   "id": "ca51dce4-a29a-4e5a-8744-fb5e2947d4af",
   "metadata": {},
   "outputs": [
    {
     "data": {
      "text/plain": [
       "0.0016666666666666668"
      ]
     },
     "execution_count": 20,
     "metadata": {},
     "output_type": "execute_result"
    }
   ],
   "source": [
    "n = 3600\n",
    "m = 6\n",
    "p = m / 3600\n",
    "p"
   ]
  },
  {
   "cell_type": "code",
   "execution_count": 21,
   "id": "c7b1a590-f8c2-4d46-986a-4147873637ed",
   "metadata": {},
   "outputs": [],
   "source": [
    "def simulate_goals(n,p):\n",
    "    return flip(n, p).sum()"
   ]
  },
  {
   "cell_type": "code",
   "execution_count": 22,
   "id": "5fce6004-e741-4e0d-8aa3-7c4922969525",
   "metadata": {},
   "outputs": [
    {
     "data": {
      "text/plain": [
       "np.float64(5.968031968031968)"
      ]
     },
     "execution_count": 22,
     "metadata": {},
     "output_type": "execute_result"
    }
   ],
   "source": [
    "goals = [simulate_goals(n,p) for i in range(1001)]\n",
    "np.mean(goals)"
   ]
  },
  {
   "cell_type": "code",
   "execution_count": 23,
   "id": "7ab1bb81-daac-4f8f-9b83-9378b007efd1",
   "metadata": {},
   "outputs": [],
   "source": [
    "def poisson_pmf(k,lam):\n",
    "    return (lam**k) * np.exp(-lam) / factorial(k)"
   ]
  },
  {
   "cell_type": "code",
   "execution_count": 24,
   "id": "fe55d108-31f9-42ad-9665-d92ae2ff48ae",
   "metadata": {},
   "outputs": [],
   "source": [
    "lam = 6\n",
    "ks = np.arange(20)\n",
    "ps = poisson_pmf(ks, lam)\n",
    "pmf_poisson = Pmf(ps, ks, name=\"Poisson model\")"
   ]
  },
  {
   "cell_type": "code",
   "execution_count": 25,
   "id": "bf5f7e55-120e-4972-a345-a4832caf0b20",
   "metadata": {},
   "outputs": [
    {
     "data": {
      "text/plain": [
       "np.float64(5.999925498375129)"
      ]
     },
     "execution_count": 25,
     "metadata": {},
     "output_type": "execute_result"
    }
   ],
   "source": [
    "pmf_poisson.normalize()\n",
    "pmf_poisson.mean()"
   ]
  },
  {
   "cell_type": "code",
   "execution_count": 26,
   "id": "44ab281d-1e08-4871-b2a1-9229b08bf20a",
   "metadata": {},
   "outputs": [
    {
     "data": {
      "image/png": "[encoded data removed]",
      "text/plain": [
       "<Figure size 450x262.5 with 1 Axes>"
      ]
     },
     "metadata": {},
     "output_type": "display_data"
    }
   ],
   "source": [
    "pmf_sim = Pmf.from_seq(goals, name=\"simulation\")\n",
    "\n",
    "two_bar_plots(pmf_sim, pmf_poisson)\n",
    "decorate(xlabel=\"Goals\", ylabel=\"PMF\")"
   ]
  },
  {
   "cell_type": "code",
   "execution_count": null,
   "id": "0fbe2a4d-5b57-4b98-8663-090961fefa90",
   "metadata": {},
   "outputs": [],
   "source": []
  },
  {
   "cell_type": "code",
   "execution_count": 27,
   "id": "f0ddc34f-a10a-4de7-8525-eede9a974149",
   "metadata": {},
   "outputs": [
    {
     "data": {
      "text/plain": [
       "(1312, '/202310100PIT')"
      ]
     },
     "execution_count": 27,
     "metadata": {},
     "output_type": "execute_result"
    }
   ],
   "source": [
    "filename = \"nhl_2023_2024.hdf\"\n",
    "\n",
    "with pd.HDFStore(filename, \"r\") as store:\n",
    "    keys = store.keys()\n",
    "\n",
    "len(keys), keys[0]"
   ]
  },
  {
   "cell_type": "code",
   "execution_count": 28,
   "id": "308ad2fe-30a7-4230-813a-84ce9996a3ed",
   "metadata": {},
   "outputs": [
    {
     "data": {
      "text/plain": [
       "0     424\n",
       "1    1916\n",
       "2    2137\n",
       "3    3005\n",
       "4    3329\n",
       "5    3513\n",
       "dtype: int64"
      ]
     },
     "execution_count": 28,
     "metadata": {},
     "output_type": "execute_result"
    }
   ],
   "source": [
    "times = pd.read_hdf(filename, key = keys[0])\n",
    "times"
   ]
  },
  {
   "cell_type": "code",
   "execution_count": 29,
   "id": "5205b4ea-804f-437b-9d56-46392cb8031f",
   "metadata": {},
   "outputs": [
    {
     "data": {
      "text/plain": [
       "np.int64(87)"
      ]
     },
     "execution_count": 29,
     "metadata": {},
     "output_type": "execute_result"
    }
   ],
   "source": [
    "3600 - times[5]"
   ]
  },
  {
   "cell_type": "code",
   "execution_count": 30,
   "id": "3d87d3d0-6028-4dc2-b5c0-5f14f8a0a916",
   "metadata": {},
   "outputs": [],
   "source": [
    "goals = []\n",
    "\n",
    "for key in keys:\n",
    "    times = pd.read_hdf(filename, key=key)\n",
    "    n = len(times)\n",
    "    goals.append(n)"
   ]
  },
  {
   "cell_type": "code",
   "execution_count": 31,
   "id": "c0bb6bd3-e5bf-4923-8f58-b1d77a93b264",
   "metadata": {},
   "outputs": [
    {
     "data": {
      "text/plain": [
       "np.float64(6.0182926829268295)"
      ]
     },
     "execution_count": 31,
     "metadata": {},
     "output_type": "execute_result"
    }
   ],
   "source": [
    "lam = np.mean(goals)\n",
    "lam"
   ]
  },
  {
   "cell_type": "code",
   "execution_count": 32,
   "id": "bebd7b60-e4c4-400c-b14e-da02cbc7693a",
   "metadata": {},
   "outputs": [],
   "source": [
    "ps = poisson_pmf(ks, lam)\n",
    "pmf_poisson = Pmf(ps, ks, name=\"Poisson model\")"
   ]
  },
  {
   "cell_type": "code",
   "execution_count": 33,
   "id": "360c3dce-0d0d-4d79-95a7-e76939937c4f",
   "metadata": {},
   "outputs": [
    {
     "data": {
      "image/png": "[encoded data removed]",
      "text/plain": [
       "<Figure size 450x262.5 with 1 Axes>"
      ]
     },
     "metadata": {},
     "output_type": "display_data"
    }
   ],
   "source": [
    "pmf_goals = Pmf.from_seq(goals, name=\"goals scored\")\n",
    "\n",
    "two_bar_plots(pmf_goals, pmf_poisson)\n",
    "decorate(xlabel=\"Goals\", ylabel=\"PMF\")"
   ]
  },
  {
   "cell_type": "code",
   "execution_count": 34,
   "id": "7cc29535-a9de-45fb-8232-4b0e9e810f93",
   "metadata": {},
   "outputs": [
    {
     "data": {
      "text/plain": [
       "0.0016666666666666668"
      ]
     },
     "execution_count": 34,
     "metadata": {},
     "output_type": "execute_result"
    }
   ],
   "source": [
    "n = 3600\n",
    "m = 6\n",
    "p = m/3600\n",
    "p"
   ]
  },
  {
   "cell_type": "code",
   "execution_count": 35,
   "id": "a42266fd-75f0-41ac-8dca-bcc25876e8ac",
   "metadata": {},
   "outputs": [],
   "source": [
    "def simulate_first_goal(n, p):\n",
    "    return flip(n, p).argmax()"
   ]
  },
  {
   "cell_type": "code",
   "execution_count": 36,
   "id": "53d46427-7de5-4a12-b6dc-c13ed54fe2c2",
   "metadata": {},
   "outputs": [
    {
     "data": {
      "text/plain": [
       "np.float64(593.8701298701299)"
      ]
     },
     "execution_count": 36,
     "metadata": {},
     "output_type": "execute_result"
    }
   ],
   "source": [
    "first_goal_times = [simulate_first_goal(n, p) for i in range(1001)]\n",
    "mean = np.mean(first_goal_times)\n",
    "mean"
   ]
  },
  {
   "cell_type": "code",
   "execution_count": 37,
   "id": "f19aec2f-f458-4082-939f-803fde27f4f8",
   "metadata": {},
   "outputs": [],
   "source": [
    "def exponential_cdf(x, len):\n",
    "    return 1 - np.exp(-lam * x)"
   ]
  },
  {
   "cell_type": "code",
   "execution_count": 38,
   "id": "48465348-5e3a-4c4f-8f9f-d7ea6ec9ee38",
   "metadata": {},
   "outputs": [
    {
     "data": {
      "text/plain": [
       "np.float64(0.0016838698390482854)"
      ]
     },
     "execution_count": 38,
     "metadata": {},
     "output_type": "execute_result"
    }
   ],
   "source": [
    "lam = 1/mean\n",
    "lam"
   ]
  },
  {
   "cell_type": "code",
   "execution_count": 39,
   "id": "30bd1fad-092e-4efb-b137-09ffea0aa590",
   "metadata": {},
   "outputs": [],
   "source": [
    "ts = np.linspace(0, 3600, 201)\n",
    "ps = exponential_cdf(ts, lam)\n",
    "cdf_expo = Cdf(ps, ts, name = \"Exponential Model\")"
   ]
  },
  {
   "cell_type": "code",
   "execution_count": 40,
   "id": "371485ed-8a39-402f-af44-4941fea0e6f3",
   "metadata": {},
   "outputs": [
    {
     "data": {
      "image/png": "[encoded data removed]",
      "text/plain": [
       "<Figure size 450x262.5 with 1 Axes>"
      ]
     },
     "metadata": {},
     "output_type": "display_data"
    }
   ],
   "source": [
    "cdf_sim = Cdf.from_seq(first_goal_times, name = \"Simulation\")\n",
    "cdf_expo.plot(ls = \":\", color = \"gray\")\n",
    "cdf_sim.plot()\n",
    "decorate(xlabel = \"Time Of First Goal (Seconds)\", ylabel = \"CDF\")"
   ]
  },
  {
   "cell_type": "code",
   "execution_count": 41,
   "id": "3e1a46cf-49eb-4fac-9165-d074b5cb2215",
   "metadata": {},
   "outputs": [],
   "source": [
    "firsts = []\n",
    "for key in keys:\n",
    "    times = pd.read_hdf(filename , key = key)\n",
    "    if len(times) > 0:\n",
    "        firsts.append(times[0])\n",
    "    else:\n",
    "        firsts.append(np.nan)"
   ]
  },
  {
   "cell_type": "code",
   "execution_count": 42,
   "id": "b85a9e1a-eb92-4772-8f5e-b8cbd5e3fa49",
   "metadata": {},
   "outputs": [
    {
     "data": {
      "text/plain": [
       "np.float64(0.0015121567467720825)"
      ]
     },
     "execution_count": 42,
     "metadata": {},
     "output_type": "execute_result"
    }
   ],
   "source": [
    "lam = 1 / np.nanmean(firsts)\n",
    "lam"
   ]
  },
  {
   "cell_type": "code",
   "execution_count": 43,
   "id": "c34ddeff-1393-4a6b-a4e4-3c6b6ced041e",
   "metadata": {},
   "outputs": [],
   "source": [
    "ps = exponential_cdf(ts, lam)\n",
    "cdf_expo = Cdf(ps, ts, name = \"Exponential Model\")"
   ]
  },
  {
   "cell_type": "code",
   "execution_count": 44,
   "id": "d9c2e0a2-68b0-415f-a531-81c44cf359cd",
   "metadata": {},
   "outputs": [
    {
     "data": {
      "text/html": [
       "<div>\n",
       "<style scoped>\n",
       "    .dataframe tbody tr th:only-of-type {\n",
       "        vertical-align: middle;\n",
       "    }\n",
       "\n",
       "    .dataframe tbody tr th {\n",
       "        vertical-align: top;\n",
       "    }\n",
       "\n",
       "    .dataframe thead th {\n",
       "        text-align: right;\n",
       "    }\n",
       "</style>\n",
       "<table border=\"1\" class=\"dataframe\">\n",
       "  <thead>\n",
       "    <tr style=\"text-align: right;\">\n",
       "      <th></th>\n",
       "      <th>probs</th>\n",
       "    </tr>\n",
       "  </thead>\n",
       "  <tbody>\n",
       "    <tr>\n",
       "      <th>3286.0</th>\n",
       "      <td>0.996951</td>\n",
       "    </tr>\n",
       "    <tr>\n",
       "      <th>3581.0</th>\n",
       "      <td>0.997713</td>\n",
       "    </tr>\n",
       "    <tr>\n",
       "      <th>NaN</th>\n",
       "      <td>1.000000</td>\n",
       "    </tr>\n",
       "  </tbody>\n",
       "</table>\n",
       "</div>"
      ],
      "text/plain": [
       "3286.0    0.996951\n",
       "3581.0    0.997713\n",
       "NaN       1.000000\n",
       "Name: Data, dtype: float64"
      ]
     },
     "execution_count": 44,
     "metadata": {},
     "output_type": "execute_result"
    }
   ],
   "source": [
    "cdf_firsts = Cdf.from_seq(firsts, name = \"Data\", dropna = False)\n",
    "cdf_firsts.tail()"
   ]
  },
  {
   "cell_type": "code",
   "execution_count": 45,
   "id": "812d1fc8-4a4d-43da-ba03-f15b1ef32e0e",
   "metadata": {},
   "outputs": [
    {
     "data": {
      "image/png": "[encoded data removed]",
      "text/plain": [
       "<Figure size 450x262.5 with 1 Axes>"
      ]
     },
     "metadata": {},
     "output_type": "display_data"
    }
   ],
   "source": [
    "cdf_expo.plot(ls = \":\", color = \"gray\")\n",
    "cdf_firsts.plot()\n",
    "decorate(xlabel = \"Time Of First Goal (Seconds)\", ylabel = \"CDF\")"
   ]
  },
  {
   "cell_type": "code",
   "execution_count": 46,
   "id": "dec60f27-46e2-4663-88ac-9e668e0bb21c",
   "metadata": {},
   "outputs": [],
   "source": [
    "def simulate_growth(n):\n",
    "    choices = [1,2,3]\n",
    "    gains = np.random.choice(choices,n)\n",
    "    return gains.sum()"
   ]
  },
  {
   "cell_type": "code",
   "execution_count": 47,
   "id": "854c870b-a689-4ca0-b73b-6576cdd8cb33",
   "metadata": {},
   "outputs": [
    {
     "data": {
      "text/plain": [
       "(np.float64(199.77022977022978), np.float64(8.257902874656832))"
      ]
     },
     "execution_count": 47,
     "metadata": {},
     "output_type": "execute_result"
    }
   ],
   "source": [
    "sim_weights = [simulate_growth(100) for i in range(1001)]\n",
    "m, s = np.mean(sim_weights), np.std(sim_weights)\n",
    "m, s"
   ]
  },
  {
   "cell_type": "code",
   "execution_count": 48,
   "id": "5f5ce8f0-1322-45a7-8841-281d61a50859",
   "metadata": {},
   "outputs": [],
   "source": [
    "def make_normal_model(data):\n",
    "    m, s = np.mean(data), np.std(data)\n",
    "    low, high = m - 4 * s, m + 4 * s\n",
    "    qs = np.linspace(low, high, 201)\n",
    "    ps = norm.cdf(qs, m, s)\n",
    "    return Cdf(ps, qs, name=\"normal model\")"
   ]
  },
  {
   "cell_type": "code",
   "execution_count": 49,
   "id": "01b9650d-50de-4020-9b9f-7ac5e1cc6b37",
   "metadata": {},
   "outputs": [],
   "source": [
    "cdf_model = make_normal_model(sim_weights)"
   ]
  },
  {
   "cell_type": "code",
   "execution_count": 50,
   "id": "b4d2adea-c23f-46ee-a9cc-0a7810a043cf",
   "metadata": {},
   "outputs": [],
   "source": [
    "cdf_sim_weights = Cdf.from_seq(sim_weights, name=\"simulation\")"
   ]
  },
  {
   "cell_type": "code",
   "execution_count": 51,
   "id": "d36ab964-0aa4-4ad8-9831-72808c0b1618",
   "metadata": {},
   "outputs": [],
   "source": [
    "def two_cdf_plots(cdf_model, cdf_data, xlabel=\"\", **options):\n",
    "    cdf_model.plot(ls=\":\", color=\"gray\")\n",
    "    cdf_data.plot(**options)\n",
    "    decorate(xlabel=xlabel, ylabel=\"CDF\")"
   ]
  },
  {
   "cell_type": "code",
   "execution_count": 52,
   "id": "0683830e-36e5-42a6-a5b1-456fc6cb5e91",
   "metadata": {},
   "outputs": [
    {
     "data": {
      "image/png": "[encoded data removed]",
      "text/plain": [
       "<Figure size 450x262.5 with 1 Axes>"
      ]
     },
     "metadata": {},
     "output_type": "display_data"
    }
   ],
   "source": [
    "two_cdf_plots(cdf_model, cdf_sim_weights, xlabel=\"Weight (pounds)\")"
   ]
  },
  {
   "cell_type": "code",
   "execution_count": 53,
   "id": "7ad17f56-12ca-45bb-a45c-43ea6c320b79",
   "metadata": {},
   "outputs": [],
   "source": [
    "preg = nsfg.read_fem_preg()\n",
    "birth_weights = preg[\"totalwgt_lb\"].dropna()"
   ]
  },
  {
   "cell_type": "code",
   "execution_count": 54,
   "id": "c0c1461b-3bd3-43bb-b4b6-4a22dee7bfc8",
   "metadata": {},
   "outputs": [
    {
     "data": {
      "text/plain": [
       "(np.float64(7.265628457623368), np.float64(1.40821553384062))"
      ]
     },
     "execution_count": 54,
     "metadata": {},
     "output_type": "execute_result"
    }
   ],
   "source": [
    "m, s = np.mean(birth_weights), np.std(birth_weights)\n",
    "m, s"
   ]
  },
  {
   "cell_type": "code",
   "execution_count": 55,
   "id": "b1141392-c5a0-4aa6-88b7-9edd71c56b60",
   "metadata": {},
   "outputs": [
    {
     "data": {
      "text/plain": [
       "(np.float64(7.280883100022579), np.float64(1.2430657948614345))"
      ]
     },
     "execution_count": 55,
     "metadata": {},
     "output_type": "execute_result"
    }
   ],
   "source": [
    "trimmed = trimboth(birth_weights, 0.01)\n",
    "m, s = np.mean(trimmed), np.std(trimmed)\n",
    "m, s"
   ]
  },
  {
   "cell_type": "code",
   "execution_count": 56,
   "id": "c51fd0a1-5d8e-45dc-bf6a-49c72daf9700",
   "metadata": {},
   "outputs": [],
   "source": [
    "cdf_model = make_normal_model(trimmed)"
   ]
  },
  {
   "cell_type": "code",
   "execution_count": 57,
   "id": "8c5c399d-9883-4652-8ae7-311d1f7ef733",
   "metadata": {},
   "outputs": [
    {
     "data": {
      "image/png": "[encoded data removed]",
      "text/plain": [
       "<Figure size 450x262.5 with 1 Axes>"
      ]
     },
     "metadata": {},
     "output_type": "display_data"
    }
   ],
   "source": [
    "cdf_birth_weight = Cdf.from_seq(birth_weights, name='data')\n",
    "\n",
    "two_cdf_plots(cdf_model, cdf_birth_weight, xlabel=\"Birth weight (pounds)\")"
   ]
  },
  {
   "cell_type": "code",
   "execution_count": 58,
   "id": "e2e67169-0b4f-448a-a155-70a9c33e6b92",
   "metadata": {},
   "outputs": [],
   "source": [
    "def simulate_proportionate_growth(n):\n",
    "    choices = [1.03, 1.05, 1.07]\n",
    "    gains = np.random.choice(choices, n)\n",
    "    return gains.prod()"
   ]
  },
  {
   "cell_type": "code",
   "execution_count": 59,
   "id": "836146bf-2cea-4bf2-abe1-e4b25c50b359",
   "metadata": {},
   "outputs": [
    {
     "data": {
      "text/plain": [
       "(np.float64(131.31578348881766), np.float64(20.124757437918863))"
      ]
     },
     "execution_count": 59,
     "metadata": {},
     "output_type": "execute_result"
    }
   ],
   "source": [
    "sim_weights = [simulate_proportionate_growth(100) for i in range(1001)]\n",
    "np.mean(sim_weights), np.std(sim_weights)"
   ]
  },
  {
   "cell_type": "code",
   "execution_count": 60,
   "id": "3741ebcb-b70b-4781-b7e3-66780a8cff31",
   "metadata": {},
   "outputs": [
    {
     "data": {
      "text/plain": [
       "(np.float64(2.1133005657326396), np.float64(0.06592646970470906))"
      ]
     },
     "execution_count": 60,
     "metadata": {},
     "output_type": "execute_result"
    }
   ],
   "source": [
    "log_sim_weights = np.log10(sim_weights)\n",
    "m, s = np.mean(log_sim_weights), np.std(log_sim_weights)\n",
    "m, s"
   ]
  },
  {
   "cell_type": "code",
   "execution_count": 61,
   "id": "44925ba5-ffae-4f29-b27e-b4655ee330c8",
   "metadata": {},
   "outputs": [
    {
     "data": {
      "image/png": "[encoded data removed]",
      "text/plain": [
       "<Figure size 450x262.5 with 1 Axes>"
      ]
     },
     "metadata": {},
     "output_type": "display_data"
    }
   ],
   "source": [
    "cdf_model = make_normal_model(log_sim_weights)\n",
    "cdf_log_sim_weights = Cdf.from_seq(log_sim_weights, name=\"simulation\")\n",
    "\n",
    "two_cdf_plots(\n",
    "    cdf_model, cdf_log_sim_weights, xlabel=\"Pumpkin weight (log10 pounds)\"\n",
    ")"
   ]
  },
  {
   "cell_type": "code",
   "execution_count": 62,
   "id": "0db6d8a9-6570-489e-bed8-83ea3269ca1b",
   "metadata": {},
   "outputs": [],
   "source": [
    "brfss = read_brfss()"
   ]
  },
  {
   "cell_type": "code",
   "execution_count": 63,
   "id": "391f7f2d-77b2-446b-9b65-33d1dd7332d3",
   "metadata": {},
   "outputs": [
    {
     "data": {
      "text/plain": [
       "(np.float64(78.9924529968581), np.float64(19.546132387397257))"
      ]
     },
     "execution_count": 63,
     "metadata": {},
     "output_type": "execute_result"
    }
   ],
   "source": [
    "adult_weights = brfss[\"wtkg2\"].dropna()\n",
    "m, s = np.mean(adult_weights), np.std(adult_weights)\n",
    "m, s"
   ]
  },
  {
   "cell_type": "code",
   "execution_count": 64,
   "id": "0a6416b5-f046-4068-8068-6254bf46c458",
   "metadata": {},
   "outputs": [
    {
     "data": {
      "image/png": "[encoded data removed]",
      "text/plain": [
       "<Figure size 450x262.5 with 1 Axes>"
      ]
     },
     "metadata": {},
     "output_type": "display_data"
    }
   ],
   "source": [
    "cdf_model = make_normal_model(adult_weights)\n",
    "cdf_adult_weights = Cdf.from_seq(adult_weights, name=\"adult weight\")\n",
    "\n",
    "two_cdf_plots(cdf_model, cdf_adult_weights, xlabel=\"Adult weight (kilograms)\")"
   ]
  },
  {
   "cell_type": "code",
   "execution_count": 65,
   "id": "94efa2f5-63bb-4683-beb3-287419ef8180",
   "metadata": {},
   "outputs": [],
   "source": [
    "log_adult_weights = np.log10(adult_weights)\n",
    "cdf_model = make_normal_model(log_adult_weights)\n",
    "\n",
    "cdf_log_adult_weights = Cdf.from_seq(log_adult_weights, name=\"log adult weight\")"
   ]
  },
  {
   "cell_type": "code",
   "execution_count": 66,
   "id": "e1aec8bb-1b1a-4352-ba0e-6560018b9162",
   "metadata": {},
   "outputs": [
    {
     "data": {
      "image/png": "[encoded data removed]",
      "text/plain": [
       "<Figure size 450x262.5 with 1 Axes>"
      ]
     },
     "metadata": {},
     "output_type": "display_data"
    }
   ],
   "source": [
    "two_cdf_plots(cdf_model, cdf_log_adult_weights, xlabel=\"Adult weight (log10 kg)\")"
   ]
  },
  {
   "cell_type": "code",
   "execution_count": 67,
   "id": "880e9f7e-8a49-40d5-be59-77ff68b70b51",
   "metadata": {},
   "outputs": [],
   "source": [
    "df = read_fem_resp()"
   ]
  },
  {
   "cell_type": "code",
   "execution_count": 68,
   "id": "e66ad460-7b94-4bd7-9bd9-6bff566c9959",
   "metadata": {},
   "outputs": [],
   "source": [
    "older = df.query(\"age >= 25\")\n",
    "num_family = older[\"numfmhh\"]"
   ]
  },
  {
   "cell_type": "code",
   "execution_count": 69,
   "id": "8df657bc-33fc-4419-bcfa-2e61c2012491",
   "metadata": {},
   "outputs": [],
   "source": [
    "pmf = Pmf.from_seq(num_family, name = \"Older Respondents\")"
   ]
  },
  {
   "cell_type": "code",
   "execution_count": 70,
   "id": "5ebdf78e-a7c9-40cf-b921-d67b4d7892b6",
   "metadata": {},
   "outputs": [],
   "source": [
    "lam = num_family.mean()                    \n",
    "ks = np.arange(0, num_family.max()+1)"
   ]
  },
  {
   "cell_type": "code",
   "execution_count": 71,
   "id": "7659c623-7e2f-4e68-8391-60bd346910b1",
   "metadata": {},
   "outputs": [],
   "source": [
    "ps = poisson_pmf(ks, lam)\n",
    "pmf_poisson = Pmf(ps, ks, name=\"Poisson model\")"
   ]
  },
  {
   "cell_type": "code",
   "execution_count": 72,
   "id": "52f54260-b8bf-4e93-92ce-111c31b422ce",
   "metadata": {},
   "outputs": [
    {
     "data": {
      "image/png": "[encoded data removed]",
      "text/plain": [
       "<Figure size 450x262.5 with 1 Axes>"
      ]
     },
     "metadata": {},
     "output_type": "display_data"
    }
   ],
   "source": [
    "two_bar_plots(pmf, pmf_poisson)\n",
    "decorate(xlabel=\"Number Of Family Members\", ylabel=\"PMF\")"
   ]
  },
  {
   "cell_type": "code",
   "execution_count": 73,
   "id": "4b04d496-fd1b-40e5-b323-7c14f43ff376",
   "metadata": {},
   "outputs": [],
   "source": [
    "filename = \"nhl_2023_2024.hdf\"\n",
    "\n",
    "with pd.HDFStore(filename, \"r\") as store:\n",
    "    keys = store.keys()"
   ]
  },
  {
   "cell_type": "code",
   "execution_count": 74,
   "id": "f11d97d8-e328-4e8d-85e1-bf138326b035",
   "metadata": {},
   "outputs": [],
   "source": [
    "intervals = []\n",
    "\n",
    "for key in keys:\n",
    "    times = pd.read_hdf(filename, key=key)\n",
    "    if len(times) > 1:\n",
    "        intervals.extend(times.diff().dropna())"
   ]
  },
  {
   "cell_type": "code",
   "execution_count": 75,
   "id": "e3c3a8ba-147c-4b96-a872-e1420ed615f7",
   "metadata": {},
   "outputs": [],
   "source": [
    "cdf = Cdf.from_seq(intervals)"
   ]
  },
  {
   "cell_type": "code",
   "execution_count": 76,
   "id": "e732c104-b7b2-4dd9-bcab-a8616e4e01fb",
   "metadata": {},
   "outputs": [],
   "source": [
    "mean = np.mean(intervals)"
   ]
  },
  {
   "cell_type": "code",
   "execution_count": 77,
   "id": "a63eff10-214d-41ee-9d7a-ca80e1c5bb99",
   "metadata": {},
   "outputs": [
    {
     "data": {
      "text/plain": [
       "np.float64(0.002040836560191201)"
      ]
     },
     "execution_count": 77,
     "metadata": {},
     "output_type": "execute_result"
    }
   ],
   "source": [
    "lam = 1/mean\n",
    "lam"
   ]
  },
  {
   "cell_type": "code",
   "execution_count": 78,
   "id": "7e5cae91-2faa-42fd-9e19-0ec14e334f15",
   "metadata": {},
   "outputs": [],
   "source": [
    "ts = np.linspace(0, max(intervals), num=101)"
   ]
  },
  {
   "cell_type": "code",
   "execution_count": 79,
   "id": "e10c0be7-51d0-4959-82ab-b9928feb12a5",
   "metadata": {},
   "outputs": [],
   "source": [
    "ps = exponential_cdf(ts, lam)\n",
    "cdf_expo = Cdf(ps, ts, name = \"Exponential Model\")"
   ]
  },
  {
   "cell_type": "code",
   "execution_count": 80,
   "id": "fcb8da53-d30d-443c-b292-c6ca68759e57",
   "metadata": {},
   "outputs": [
    {
     "data": {
      "image/png": "[encoded data removed]",
      "text/plain": [
       "<Figure size 450x262.5 with 1 Axes>"
      ]
     },
     "metadata": {},
     "output_type": "display_data"
    }
   ],
   "source": [
    "cdf_sim = Cdf.from_seq(intervals, name = \"Simulation\")\n",
    "cdf_expo.plot(ls = \":\", color = \"gray\")\n",
    "cdf_sim.plot()\n",
    "decorate(xlabel = \"Time Of First Goal (Seconds)\", ylabel = \"CDF\")"
   ]
  },
  {
   "cell_type": "code",
   "execution_count": 81,
   "id": "13b8e788-9b04-4ff3-8cec-ba228b989d91",
   "metadata": {},
   "outputs": [
    {
     "data": {
      "text/plain": [
       "(np.float64(168.82518961012298), np.float64(10.35264015645592))"
      ]
     },
     "execution_count": 81,
     "metadata": {},
     "output_type": "execute_result"
    }
   ],
   "source": [
    "adult_heights = brfss[\"htm3\"].dropna()\n",
    "m, s = np.mean(adult_heights), np.std(adult_heights)\n",
    "m, s"
   ]
  },
  {
   "cell_type": "code",
   "execution_count": 82,
   "id": "6dc2ac67-2de7-49f6-abbe-6a593f006df2",
   "metadata": {},
   "outputs": [],
   "source": [
    "cdf_heights = Cdf.from_seq(adult_heights)"
   ]
  },
  {
   "cell_type": "code",
   "execution_count": 83,
   "id": "5c4b7715-2b82-4525-860c-716f2dd7c16c",
   "metadata": {},
   "outputs": [],
   "source": [
    "xs = np.linspace(min(adult_heights), max(adult_heights), 201)\n",
    "ps_normal = norm.cdf(xs, loc=m, scale=s)\n",
    "cdf_normal = Cdf(ps_normal, xs, name=\"Normal model\")"
   ]
  },
  {
   "cell_type": "code",
   "execution_count": 84,
   "id": "c18bedb6-102c-43a3-ae85-89d2a05fec5f",
   "metadata": {},
   "outputs": [
    {
     "data": {
      "image/png": "[encoded data removed]",
      "text/plain": [
       "<Figure size 450x262.5 with 1 Axes>"
      ]
     },
     "metadata": {},
     "output_type": "display_data"
    }
   ],
   "source": [
    "cdf_heights.plot(label=\"Actual Heights\")\n",
    "cdf_normal.plot(label=\"Normal Model\", ls=\"--\", color=\"gray\")\n",
    "plt.title(\"Human Height vs Normal Distribution\")\n",
    "plt.xlabel(\"Height (cm)\")\n",
    "plt.ylabel(\"CDF\")\n",
    "plt.legend()\n",
    "plt.grid(True)\n",
    "plt.show()"
   ]
  },
  {
   "cell_type": "code",
   "execution_count": 85,
   "id": "12885bf7-ee36-4c4c-ab55-1a01ec2d45c5",
   "metadata": {},
   "outputs": [],
   "source": [
    "log_heights = np.log(adult_heights)"
   ]
  },
  {
   "cell_type": "code",
   "execution_count": 86,
   "id": "1e0d1d15-c757-4dae-ba79-b2fd3e9ec7d2",
   "metadata": {},
   "outputs": [
    {
     "data": {
      "text/plain": [
       "(np.float64(5.126983290301852), np.float64(0.06137761552894133))"
      ]
     },
     "execution_count": 86,
     "metadata": {},
     "output_type": "execute_result"
    }
   ],
   "source": [
    "m_log, s_log = np.mean(log_heights), np.std(log_heights)\n",
    "m_log, s_log"
   ]
  },
  {
   "cell_type": "code",
   "execution_count": 87,
   "id": "285f29af-1a04-408b-b357-0991e864fce3",
   "metadata": {},
   "outputs": [],
   "source": [
    "cdf_log_heights = Cdf.from_seq(log_heights)"
   ]
  },
  {
   "cell_type": "code",
   "execution_count": 88,
   "id": "c43d1003-7ebb-49e8-9ab2-6c537a83da53",
   "metadata": {},
   "outputs": [],
   "source": [
    "xs_log = np.linspace(min(log_heights), max(log_heights), 201)\n",
    "ps_log_normal = norm.cdf(xs_log, loc=m_log, scale=s_log)\n",
    "cdf_log_normal = Cdf(ps_log_normal, xs_log, name=\"Log-Normal Model\")"
   ]
  },
  {
   "cell_type": "code",
   "execution_count": 89,
   "id": "ab911a2d-0475-45f2-b973-cf2051a0fc73",
   "metadata": {},
   "outputs": [
    {
     "data": {
      "image/png": "[encoded data removed]",
      "text/plain": [
       "<Figure size 450x262.5 with 1 Axes>"
      ]
     },
     "metadata": {},
     "output_type": "display_data"
    }
   ],
   "source": [
    "cdf_log_heights.plot(label=\"Log(Heights)\")\n",
    "cdf_log_normal.plot(label=\"Normal Model\", ls=\"--\", color=\"gray\")\n",
    "plt.title(\"Log(Human Height) vs Normal Distribution\")\n",
    "plt.xlabel(\"Log Height\")\n",
    "plt.ylabel(\"CDF\")\n",
    "plt.legend()\n",
    "plt.grid(True)\n",
    "plt.show()"
   ]
  },
  {
   "cell_type": "code",
   "execution_count": null,
   "id": "41063f79-5caa-41c5-8145-67fd3a21e6cb",
   "metadata": {},
   "outputs": [],
   "source": []
  }
 ],
 "metadata": {
  "kernelspec": {
   "display_name": "Python 3 (ipykernel)",
   "language": "python",
   "name": "python3"
  },
  "language_info": {
   "codemirror_mode": {
    "name": "ipython",
    "version": 3
   },
   "file_extension": ".py",
   "mimetype": "text/x-python",
   "name": "python",
   "nbconvert_exporter": "python",
   "pygments_lexer": "ipython3",
   "version": "3.13.1"
  }
 },
 "nbformat": 4,
 "nbformat_minor": 5
}
