{
 "cells": [
  {
   "cell_type": "code",
   "execution_count": 1,
   "id": "1094eaad-53e7-452d-b15c-20cf0c971c01",
   "metadata": {},
   "outputs": [],
   "source": [
    "from os.path import basename, exists\n",
    "\n",
    "\n",
    "def download(url):\n",
    "    filename = basename(url)\n",
    "    if not exists(filename):\n",
    "        from urllib.request import urlretrieve\n",
    "\n",
    "        local, _ = urlretrieve(url, filename)\n",
    "        print(\"Downloaded \" + local)\n",
    "\n",
    "\n",
    "download(\"https://github.com/AllenDowney/ThinkStats/raw/v3/nb/thinkstats.py\")"
   ]
  },
  {
   "cell_type": "code",
   "execution_count": 2,
   "id": "aa131697-2351-41e3-8963-7fd19c1fd5d1",
   "metadata": {},
   "outputs": [],
   "source": [
    "import numpy as np\n",
    "from empiricaldist import Pmf\n",
    "from thinkstats import decorate, two_bar_plots\n",
    "from scipy.special import comb, factorial\n",
    "import pandas as pd"
   ]
  },
  {
   "cell_type": "code",
   "execution_count": 3,
   "id": "8844dd12-d8fd-4b12-bcb4-c0f933490e6b",
   "metadata": {},
   "outputs": [],
   "source": [
    "def flip(n, p):\n",
    "    choices = [1, 0]\n",
    "    probs = [p, 1 - p]\n",
    "    return np.random.choice(choices, n, p = probs)"
   ]
  },
  {
   "cell_type": "code",
   "execution_count": 4,
   "id": "9701e993-aad4-44d9-acae-d3e890f98fd0",
   "metadata": {},
   "outputs": [
    {
     "data": {
      "text/plain": [
       "array([1, 1, 1, 1, 0, 1, 1, 0, 1, 1, 0, 0, 1, 1, 1, 1, 1, 1, 1, 1, 0, 0,\n",
       "       1, 1, 1])"
      ]
     },
     "execution_count": 4,
     "metadata": {},
     "output_type": "execute_result"
    }
   ],
   "source": [
    "flip(25, 0.9)"
   ]
  },
  {
   "cell_type": "code",
   "execution_count": 5,
   "id": "1dcbba69-ad5f-4815-8583-e2439331b75c",
   "metadata": {},
   "outputs": [
    {
     "data": {
      "text/html": [
       "<div>\n",
       "<style scoped>\n",
       "    .dataframe tbody tr th:only-of-type {\n",
       "        vertical-align: middle;\n",
       "    }\n",
       "\n",
       "    .dataframe tbody tr th {\n",
       "        vertical-align: top;\n",
       "    }\n",
       "\n",
       "    .dataframe thead th {\n",
       "        text-align: right;\n",
       "    }\n",
       "</style>\n",
       "<table border=\"1\" class=\"dataframe\">\n",
       "  <thead>\n",
       "    <tr style=\"text-align: right;\">\n",
       "      <th></th>\n",
       "      <th>probs</th>\n",
       "    </tr>\n",
       "  </thead>\n",
       "  <tbody>\n",
       "    <tr>\n",
       "      <th>0</th>\n",
       "      <td>0.091</td>\n",
       "    </tr>\n",
       "    <tr>\n",
       "      <th>1</th>\n",
       "      <td>0.909</td>\n",
       "    </tr>\n",
       "  </tbody>\n",
       "</table>\n",
       "</div>"
      ],
      "text/plain": [
       "0    0.091\n",
       "1    0.909\n",
       "Name: , dtype: float64"
      ]
     },
     "execution_count": 5,
     "metadata": {},
     "output_type": "execute_result"
    }
   ],
   "source": [
    "seq = flip(1000, 0.9)\n",
    "pmf = Pmf.from_seq(seq)\n",
    "pmf"
   ]
  },
  {
   "cell_type": "code",
   "execution_count": 6,
   "id": "708b6359-19a9-451e-a070-dda65754f14e",
   "metadata": {},
   "outputs": [],
   "source": [
    "def simulate_round(n, p):\n",
    "    seq = flip(n, p)\n",
    "    return seq.sum()"
   ]
  },
  {
   "cell_type": "code",
   "execution_count": 7,
   "id": "f1caca07-3214-46ae-873b-e69075ea4bd0",
   "metadata": {},
   "outputs": [],
   "source": [
    "n = 25\n",
    "p = 0.9\n",
    "result_sim = [simulate_round(n,p) for i in range(1000)]"
   ]
  },
  {
   "cell_type": "code",
   "execution_count": 8,
   "id": "4d0fdbe5-7f6b-4af9-b5fd-293e3f7d8339",
   "metadata": {},
   "outputs": [
    {
     "data": {
      "text/plain": [
       "(np.float64(22.493), 22.5)"
      ]
     },
     "execution_count": 8,
     "metadata": {},
     "output_type": "execute_result"
    }
   ],
   "source": [
    "np.mean(result_sim), n * p"
   ]
  },
  {
   "cell_type": "code",
   "execution_count": 9,
   "id": "219e86e6-2b8f-4c31-bd54-b028fe91d75a",
   "metadata": {},
   "outputs": [
    {
     "data": {
      "image/png": "[encoded data removed]",
      "text/plain": [
       "<Figure size 450x262.5 with 1 Axes>"
      ]
     },
     "metadata": {},
     "output_type": "display_data"
    }
   ],
   "source": [
    "pmf_sim = Pmf.from_seq(result_sim, name = \"Simulation Results\")\n",
    "pmf_sim.bar()\n",
    "decorate(xlabel = \"Hits\", ylabel = \"PMF\")"
   ]
  },
  {
   "cell_type": "code",
   "execution_count": 10,
   "id": "53deb81e-dce3-4579-a1ba-3369c7960bd8",
   "metadata": {},
   "outputs": [],
   "source": [
    "def binomial_pmf(k, n, p):\n",
    "    return comb(n,k) * (p**k) * ((1-p) ** (n-k))"
   ]
  },
  {
   "cell_type": "code",
   "execution_count": 11,
   "id": "2e57ad9f-499f-4b13-91d1-edad7018222a",
   "metadata": {},
   "outputs": [],
   "source": [
    "ks = np.arange(16, n + 1)\n",
    "ps = binomial_pmf(ks, n, p)\n",
    "pmf_binom = Pmf(ps, ks, name = \"Binomial Model\")"
   ]
  },
  {
   "cell_type": "code",
   "execution_count": 12,
   "id": "7cb4434f-b276-430c-bd2f-598f273d1d90",
   "metadata": {},
   "outputs": [
    {
     "data": {
      "image/png": "[encoded data removed]",
      "text/plain": [
       "<Figure size 450x262.5 with 1 Axes>"
      ]
     },
     "metadata": {},
     "output_type": "display_data"
    }
   ],
   "source": [
    "two_bar_plots(pmf_sim, pmf_binom)\n",
    "decorate(xlabel = \"Hits\", ylabel = \"PMF\")"
   ]
  },
  {
   "cell_type": "code",
   "execution_count": 13,
   "id": "9283525a-630f-4070-9c83-9b7669d42c60",
   "metadata": {},
   "outputs": [],
   "source": [
    "filename = \"Shooting_at_the_2020_Summer_Olympics_Mens_skeet\""
   ]
  },
  {
   "cell_type": "code",
   "execution_count": 14,
   "id": "009a3893-1efd-4115-9fe0-601a65d8d8b5",
   "metadata": {},
   "outputs": [],
   "source": [
    "download(\"https://github.com/AllenDowney/ThinkStats/raw/v3/data/\" + filename)"
   ]
  },
  {
   "cell_type": "code",
   "execution_count": 15,
   "id": "2b0b6737-119f-4f80-807f-b8cdcd8e413c",
   "metadata": {},
   "outputs": [],
   "source": [
    "data = pd.read_html(filename)"
   ]
  },
  {
   "cell_type": "code",
   "execution_count": 16,
   "id": "6fd3824a-4907-4b7e-9030-fe1f39706879",
   "metadata": {},
   "outputs": [
    {
     "data": {
      "text/html": [
       "<div>\n",
       "<style scoped>\n",
       "    .dataframe tbody tr th:only-of-type {\n",
       "        vertical-align: middle;\n",
       "    }\n",
       "\n",
       "    .dataframe tbody tr th {\n",
       "        vertical-align: top;\n",
       "    }\n",
       "\n",
       "    .dataframe thead th {\n",
       "        text-align: right;\n",
       "    }\n",
       "</style>\n",
       "<table border=\"1\" class=\"dataframe\">\n",
       "  <thead>\n",
       "    <tr style=\"text-align: right;\">\n",
       "      <th></th>\n",
       "      <th>Rank</th>\n",
       "      <th>Athlete</th>\n",
       "      <th>Country</th>\n",
       "      <th>1</th>\n",
       "      <th>2</th>\n",
       "      <th>3</th>\n",
       "      <th>4</th>\n",
       "      <th>5</th>\n",
       "      <th>Total[3]</th>\n",
       "      <th>Shoot-off</th>\n",
       "      <th>Notes</th>\n",
       "    </tr>\n",
       "  </thead>\n",
       "  <tbody>\n",
       "    <tr>\n",
       "      <th>0</th>\n",
       "      <td>1</td>\n",
       "      <td>Éric Delaunay</td>\n",
       "      <td>France</td>\n",
       "      <td>25</td>\n",
       "      <td>25</td>\n",
       "      <td>25</td>\n",
       "      <td>24</td>\n",
       "      <td>25</td>\n",
       "      <td>124</td>\n",
       "      <td>+6</td>\n",
       "      <td>Q, OR</td>\n",
       "    </tr>\n",
       "    <tr>\n",
       "      <th>1</th>\n",
       "      <td>2</td>\n",
       "      <td>Tammaro Cassandro</td>\n",
       "      <td>Italy</td>\n",
       "      <td>24</td>\n",
       "      <td>25</td>\n",
       "      <td>25</td>\n",
       "      <td>25</td>\n",
       "      <td>25</td>\n",
       "      <td>124</td>\n",
       "      <td>+5</td>\n",
       "      <td>Q, OR</td>\n",
       "    </tr>\n",
       "    <tr>\n",
       "      <th>2</th>\n",
       "      <td>3</td>\n",
       "      <td>Eetu Kallioinen</td>\n",
       "      <td>Finland</td>\n",
       "      <td>25</td>\n",
       "      <td>25</td>\n",
       "      <td>24</td>\n",
       "      <td>25</td>\n",
       "      <td>24</td>\n",
       "      <td>123</td>\n",
       "      <td>NaN</td>\n",
       "      <td>Q</td>\n",
       "    </tr>\n",
       "    <tr>\n",
       "      <th>3</th>\n",
       "      <td>4</td>\n",
       "      <td>Vincent Hancock</td>\n",
       "      <td>United States</td>\n",
       "      <td>25</td>\n",
       "      <td>25</td>\n",
       "      <td>25</td>\n",
       "      <td>25</td>\n",
       "      <td>22</td>\n",
       "      <td>122</td>\n",
       "      <td>+8</td>\n",
       "      <td>Q</td>\n",
       "    </tr>\n",
       "    <tr>\n",
       "      <th>4</th>\n",
       "      <td>5</td>\n",
       "      <td>Abdullah Al-Rashidi</td>\n",
       "      <td>Kuwait</td>\n",
       "      <td>25</td>\n",
       "      <td>25</td>\n",
       "      <td>24</td>\n",
       "      <td>25</td>\n",
       "      <td>23</td>\n",
       "      <td>122</td>\n",
       "      <td>+7</td>\n",
       "      <td>Q</td>\n",
       "    </tr>\n",
       "  </tbody>\n",
       "</table>\n",
       "</div>"
      ],
      "text/plain": [
       "   Rank              Athlete        Country   1   2   3   4   5 Total[3]  \\\n",
       "0     1        Éric Delaunay         France  25  25  25  24  25      124   \n",
       "1     2    Tammaro Cassandro          Italy  24  25  25  25  25      124   \n",
       "2     3      Eetu Kallioinen        Finland  25  25  24  25  24      123   \n",
       "3     4      Vincent Hancock  United States  25  25  25  25  22      122   \n",
       "4     5  Abdullah Al-Rashidi         Kuwait  25  25  24  25  23      122   \n",
       "\n",
       "  Shoot-off  Notes  \n",
       "0        +6  Q, OR  \n",
       "1        +5  Q, OR  \n",
       "2       NaN      Q  \n",
       "3        +8      Q  \n",
       "4        +7      Q  "
      ]
     },
     "execution_count": 16,
     "metadata": {},
     "output_type": "execute_result"
    }
   ],
   "source": [
    "df = data[6]\n",
    "df.head()"
   ]
  },
  {
   "cell_type": "code",
   "execution_count": 17,
   "id": "34f375cc-58f4-4f72-91ce-0d723961798a",
   "metadata": {},
   "outputs": [],
   "source": [
    "columns = [\"1\", \"2\", \"3\", \"4\", \"5\"]\n",
    "results = df[columns].values.flatten()"
   ]
  },
  {
   "cell_type": "code",
   "execution_count": 18,
   "id": "692eeb75-b2a9-4a45-949d-882c814cc80e",
   "metadata": {},
   "outputs": [
    {
     "data": {
      "text/plain": [
       "(25, 3750, np.int64(3575))"
      ]
     },
     "execution_count": 18,
     "metadata": {},
     "output_type": "execute_result"
    }
   ],
   "source": [
    "total_shots = 25 * len(results)\n",
    "total_hits = results.sum()\n",
    "n, total_shots, total_hits"
   ]
  },
  {
   "cell_type": "code",
   "execution_count": 19,
   "id": "8dec82b0-3564-4c81-add0-08cf496d63bd",
   "metadata": {},
   "outputs": [
    {
     "data": {
      "text/plain": [
       "np.float64(0.9533333333333334)"
      ]
     },
     "execution_count": 19,
     "metadata": {},
     "output_type": "execute_result"
    }
   ],
   "source": [
    "p = total_hits / total_shots\n",
    "p"
   ]
  },
  {
   "cell_type": "code",
   "execution_count": 20,
   "id": "b1dde19a-df1f-4511-b71d-d57bb37ff104",
   "metadata": {},
   "outputs": [],
   "source": [
    "ps = binomial_pmf(ks, n, p)\n",
    "pmf_binom = Pmf(ps, ks, name = \"Binomial Model\")"
   ]
  },
  {
   "cell_type": "code",
   "execution_count": 21,
   "id": "85fe4e1c-4cdc-4809-93ac-f9f3abceaef2",
   "metadata": {},
   "outputs": [
    {
     "data": {
      "image/png": "[encoded data removed]",
      "text/plain": [
       "<Figure size 450x262.5 with 1 Axes>"
      ]
     },
     "metadata": {},
     "output_type": "display_data"
    }
   ],
   "source": [
    "pmf_result = Pmf.from_seq(results, name = \"Actual Results\")\n",
    "two_bar_plots(pmf_result, pmf_binom)\n",
    "decorate(xlabel=\"Hits\", ylabel=\"PMF\")"
   ]
  },
  {
   "cell_type": "code",
   "execution_count": 22,
   "id": "ca51dce4-a29a-4e5a-8744-fb5e2947d4af",
   "metadata": {},
   "outputs": [
    {
     "data": {
      "text/plain": [
       "0.0016666666666666668"
      ]
     },
     "execution_count": 22,
     "metadata": {},
     "output_type": "execute_result"
    }
   ],
   "source": [
    "n = 3600\n",
    "m = 6\n",
    "p = m / 3600\n",
    "p"
   ]
  },
  {
   "cell_type": "code",
   "execution_count": 23,
   "id": "c7b1a590-f8c2-4d46-986a-4147873637ed",
   "metadata": {},
   "outputs": [],
   "source": [
    "def simulate_goals(n,p):\n",
    "    return flip(n, p).sum()"
   ]
  },
  {
   "cell_type": "code",
   "execution_count": 24,
   "id": "5fce6004-e741-4e0d-8aa3-7c4922969525",
   "metadata": {},
   "outputs": [
    {
     "data": {
      "text/plain": [
       "np.float64(6.000999000999001)"
      ]
     },
     "execution_count": 24,
     "metadata": {},
     "output_type": "execute_result"
    }
   ],
   "source": [
    "goals = [simulate_goals(n,p) for i in range(1001)]\n",
    "np.mean(goals)"
   ]
  },
  {
   "cell_type": "code",
   "execution_count": 25,
   "id": "7ab1bb81-daac-4f8f-9b83-9378b007efd1",
   "metadata": {},
   "outputs": [],
   "source": [
    "def poisson_pmf(k,lam):\n",
    "    return (lam**k) * np.exp(-lam) / factorial(k)"
   ]
  },
  {
   "cell_type": "code",
   "execution_count": 26,
   "id": "fe55d108-31f9-42ad-9665-d92ae2ff48ae",
   "metadata": {},
   "outputs": [],
   "source": [
    "lam = 6\n",
    "ks = np.arange(20)\n",
    "ps = poisson_pmf(ks, lam)\n",
    "pmf_poisson = Pmf(ps, ks, name=\"Poisson model\")"
   ]
  },
  {
   "cell_type": "code",
   "execution_count": 27,
   "id": "bf5f7e55-120e-4972-a345-a4832caf0b20",
   "metadata": {},
   "outputs": [
    {
     "data": {
      "text/plain": [
       "np.float64(5.999925498375129)"
      ]
     },
     "execution_count": 27,
     "metadata": {},
     "output_type": "execute_result"
    }
   ],
   "source": [
    "pmf_poisson.normalize()\n",
    "pmf_poisson.mean()"
   ]
  },
  {
   "cell_type": "code",
   "execution_count": 28,
   "id": "44ab281d-1e08-4871-b2a1-9229b08bf20a",
   "metadata": {},
   "outputs": [
    {
     "data": {
      "image/png": "[encoded data removed]",
      "text/plain": [
       "<Figure size 450x262.5 with 1 Axes>"
      ]
     },
     "metadata": {},
     "output_type": "display_data"
    }
   ],
   "source": [
    "pmf_sim = Pmf.from_seq(goals, name=\"simulation\")\n",
    "\n",
    "two_bar_plots(pmf_sim, pmf_poisson)\n",
    "decorate(xlabel=\"Goals\", ylabel=\"PMF\")"
   ]
  },
  {
   "cell_type": "code",
   "execution_count": 29,
   "id": "0fbe2a4d-5b57-4b98-8663-090961fefa90",
   "metadata": {},
   "outputs": [],
   "source": [
    "download(\"https://github.com/AllenDowney/ThinkStats/raw/v3/data/nhl_2023_2024.hdf\")"
   ]
  },
  {
   "cell_type": "code",
   "execution_count": 36,
   "id": "f0ddc34f-a10a-4de7-8525-eede9a974149",
   "metadata": {},
   "outputs": [
    {
     "data": {
      "text/plain": [
       "(1312, '/202310100PIT')"
      ]
     },
     "execution_count": 36,
     "metadata": {},
     "output_type": "execute_result"
    }
   ],
   "source": [
    "filename = \"nhl_2023_2024.hdf\"\n",
    "\n",
    "with pd.HDFStore(filename, \"r\") as store:\n",
    "    keys = store.keys()\n",
    "\n",
    "len(keys), keys[0]"
   ]
  },
  {
   "cell_type": "code",
   "execution_count": 40,
   "id": "308ad2fe-30a7-4230-813a-84ce9996a3ed",
   "metadata": {},
   "outputs": [
    {
     "data": {
      "text/plain": [
       "0     424\n",
       "1    1916\n",
       "2    2137\n",
       "3    3005\n",
       "4    3329\n",
       "5    3513\n",
       "dtype: int64"
      ]
     },
     "execution_count": 40,
     "metadata": {},
     "output_type": "execute_result"
    }
   ],
   "source": [
    "times = pd.read_hdf(filename, key = keys[0])\n",
    "times"
   ]
  },
  {
   "cell_type": "code",
   "execution_count": 41,
   "id": "5205b4ea-804f-437b-9d56-46392cb8031f",
   "metadata": {},
   "outputs": [
    {
     "data": {
      "text/plain": [
       "np.int64(87)"
      ]
     },
     "execution_count": 41,
     "metadata": {},
     "output_type": "execute_result"
    }
   ],
   "source": [
    "3600 - times[5]"
   ]
  },
  {
   "cell_type": "code",
   "execution_count": 42,
   "id": "3d87d3d0-6028-4dc2-b5c0-5f14f8a0a916",
   "metadata": {},
   "outputs": [],
   "source": [
    "goals = []\n",
    "\n",
    "for key in keys:\n",
    "    times = pd.read_hdf(filename, key=key)\n",
    "    n = len(times)\n",
    "    goals.append(n)"
   ]
  },
  {
   "cell_type": "code",
   "execution_count": 43,
   "id": "c0bb6bd3-e5bf-4923-8f58-b1d77a93b264",
   "metadata": {},
   "outputs": [
    {
     "data": {
      "text/plain": [
       "np.float64(6.0182926829268295)"
      ]
     },
     "execution_count": 43,
     "metadata": {},
     "output_type": "execute_result"
    }
   ],
   "source": [
    "lam = np.mean(goals)\n",
    "lam"
   ]
  },
  {
   "cell_type": "code",
   "execution_count": 44,
   "id": "bebd7b60-e4c4-400c-b14e-da02cbc7693a",
   "metadata": {},
   "outputs": [],
   "source": [
    "ps = poisson_pmf(ks, lam)\n",
    "pmf_poisson = Pmf(ps, ks, name=\"Poisson model\")"
   ]
  },
  {
   "cell_type": "code",
   "execution_count": 45,
   "id": "360c3dce-0d0d-4d79-95a7-e76939937c4f",
   "metadata": {},
   "outputs": [
    {
     "data": {
      "image/png": "[encoded data removed]",
      "text/plain": [
       "<Figure size 450x262.5 with 1 Axes>"
      ]
     },
     "metadata": {},
     "output_type": "display_data"
    }
   ],
   "source": [
    "pmf_goals = Pmf.from_seq(goals, name=\"goals scored\")\n",
    "\n",
    "two_bar_plots(pmf_goals, pmf_poisson)\n",
    "decorate(xlabel=\"Goals\", ylabel=\"PMF\")"
   ]
  },
  {
   "cell_type": "code",
   "execution_count": null,
   "id": "7cc29535-a9de-45fb-8232-4b0e9e810f93",
   "metadata": {},
   "outputs": [],
   "source": []
  }
 ],
 "metadata": {
  "kernelspec": {
   "display_name": "Python 3 (ipykernel)",
   "language": "python",
   "name": "python3"
  },
  "language_info": {
   "codemirror_mode": {
    "name": "ipython",
    "version": 3
   },
   "file_extension": ".py",
   "mimetype": "text/x-python",
   "name": "python",
   "nbconvert_exporter": "python",
   "pygments_lexer": "ipython3",
   "version": "3.13.1"
  }
 },
 "nbformat": 4,
 "nbformat_minor": 5
}
